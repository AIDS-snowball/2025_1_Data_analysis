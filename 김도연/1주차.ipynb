{
  "nbformat": 4,
  "nbformat_minor": 0,
  "metadata": {
    "colab": {
      "provenance": [],
      "authorship_tag": "ABX9TyN0Ef+vo1QbKi0krCW20aa/",
      "include_colab_link": true
    },
    "kernelspec": {
      "name": "python3",
      "display_name": "Python 3"
    },
    "language_info": {
      "name": "python"
    }
  },
  "cells": [
    {
      "cell_type": "markdown",
      "metadata": {
        "id": "view-in-github",
        "colab_type": "text"
      },
      "source": [
        "<a href=\"https://colab.research.google.com/github/Yeon098/2025_1_Data_analysis/blob/main/%EA%B9%80%EB%8F%84%EC%97%B0/1%EC%A3%BC%EC%B0%A8.ipynb\" target=\"_parent\"><img src=\"https://colab.research.google.com/assets/colab-badge.svg\" alt=\"Open In Colab\"/></a>"
      ]
    },
    {
      "cell_type": "markdown",
      "source": [
        "#극대노\n",
        "##대노\n",
        "###중노\n",
        "####소노\n",
        "#####극소노"
      ],
      "metadata": {
        "id": "FYDVT7TNxJls"
      }
    }
  ]
}